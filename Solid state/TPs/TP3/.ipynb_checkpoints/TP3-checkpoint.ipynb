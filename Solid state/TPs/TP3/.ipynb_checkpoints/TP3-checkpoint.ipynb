{
 "cells": [
  {
   "cell_type": "markdown",
   "id": "081d22db",
   "metadata": {},
   "source": [
    "# TP3 : Determination of the cristalline structures"
   ]
  },
  {
   "cell_type": "code",
   "execution_count": 1,
   "id": "5b64c461",
   "metadata": {},
   "outputs": [],
   "source": [
    "import numpy as np"
   ]
  },
  {
   "cell_type": "markdown",
   "id": "f4ff3e69",
   "metadata": {},
   "source": [
    "## Exercise 1\n",
    "The goal is to compute the energy - in termes of Joules and eV - of a photon emitted by $Cuk-\\alpha$ radiation - that is a photon with a wavelength $\\lambda = 1.540 A$.\n",
    "\n",
    "One simply has know that a photon's energy is directly propertional to the photon's electromagnetic frequency $\\nu$ through\n",
    "\\begin{equation}\n",
    "    E = h\\nu = \\frac{hc}{\\lambda}\n",
    "\\end{equation}\n",
    "Since $\\nu=\\frac{c}{\\lambda}$."
   ]
  },
  {
   "cell_type": "code",
   "execution_count": 2,
   "id": "af741a85",
   "metadata": {},
   "outputs": [],
   "source": [
    "h = 6.63e-34 #Plank's constant in J.s\n",
    "c = 3e+8 # Speed of light in m/s\n",
    "lamb = 1.54e-10 #Wavelength in m"
   ]
  },
  {
   "cell_type": "code",
   "execution_count": 3,
   "id": "3fff6086",
   "metadata": {},
   "outputs": [
    {
     "data": {
      "text/plain": [
       "1.2915584415584414e-15"
      ]
     },
     "execution_count": 3,
     "metadata": {},
     "output_type": "execute_result"
    }
   ],
   "source": [
    "#Energy in joules\n",
    "E_joules = (h*c)/lamb\n",
    "E_joules"
   ]
  },
  {
   "cell_type": "code",
   "execution_count": 4,
   "id": "1fb8d9a0",
   "metadata": {},
   "outputs": [
    {
     "data": {
      "text/plain": [
       "8061.907792207791"
      ]
     },
     "execution_count": 4,
     "metadata": {},
     "output_type": "execute_result"
    }
   ],
   "source": [
    "#Conversion factor between joules and eV\n",
    "jtoev = 6.242e+18\n",
    "\n",
    "E_ev = jtoev*E_joules\n",
    "E_ev"
   ]
  },
  {
   "cell_type": "markdown",
   "id": "bab94474",
   "metadata": {},
   "source": [
    "## Exercise 2"
   ]
  },
  {
   "cell_type": "markdown",
   "id": "7ee2a086",
   "metadata": {},
   "source": [
    "We want to figure out the lowest and highest Bragg angles in the context of an XRD experiment, performed using a beam with a wavelength $\\lambda = 1.54$"
   ]
  },
  {
   "cell_type": "code",
   "execution_count": 5,
   "id": "d133e3a1",
   "metadata": {},
   "outputs": [],
   "source": [
    "lamb = 1.54\n",
    "a = 3.61"
   ]
  },
  {
   "cell_type": "markdown",
   "id": "cf3a10c8",
   "metadata": {},
   "source": [
    "To do so, let us remind ourselves of the following two equations:\n",
    "\\begin{equation}\n",
    "    2d\\sin\\theta = n\\lambda\\\\\n",
    "    d_{(hlk)} = \\frac{a}{\\sqrt{h^2+l^2+k^2}}\n",
    "\\end{equation}\n",
    "\n",
    "Combining these equations, one finds that\n",
    "\\begin{equation}\n",
    "    \\theta = \\arcsin\\left[\\frac{n\\lambda}{2d}\\right] = \\arcsin\\left[\\frac{n\\lambda\\sqrt{h^2+l^2+k^2}}{2a}\\right]\n",
    "\\end{equation}\n",
    "\n",
    "The minimal value of $\\theta$ shall therefore be that which has the lowest value of $N = h^2+l^2+k^2$. One needs to take into account the selection rules for an FCC lattice. Indeed, such a lattice have the following possible values:\n",
    "\\begin{equation}\n",
    "    N = 3,4,8, ...\n",
    "\\end{equation}\n",
    "\n",
    "In any cases, we have that $\\theta_{min}\\propto\\sqrt{N}\\propto\\sqrt{1+1+1}\\propto\\sqrt{3}$. We deduce hereunder the corresponding $\\theta$ value."
   ]
  },
  {
   "cell_type": "code",
   "execution_count": 6,
   "id": "6676805e",
   "metadata": {},
   "outputs": [
    {
     "data": {
      "text/plain": [
       "21.681097112928782"
      ]
     },
     "execution_count": 6,
     "metadata": {},
     "output_type": "execute_result"
    }
   ],
   "source": [
    "theta_min = np.degrees(np.arcsin((lamb*np.sqrt(3))/(2*a)))\n",
    "theta_min"
   ]
  },
  {
   "cell_type": "markdown",
   "id": "8bcef3f8",
   "metadata": {},
   "source": [
    "The highest value of the angle should be such that $\\sin\\theta_{max} = 1$. Hence,\n",
    "\\begin{equation}\n",
    "    \\sqrt{h^2+l^2+k^2} = \\frac{2a}{\\lambda}\n",
    "\\end{equation}\n",
    "Which means that\n",
    "\n",
    "\\begin{equation}\n",
    "    N = h^2+l^2+k^2 \\leq \\left(\\frac{2a}{\\lambda}\\right)^2\n",
    "\\end{equation}\n",
    "We then have to list the different possible values of $N$ for a FCC lattice."
   ]
  },
  {
   "cell_type": "code",
   "execution_count": 7,
   "id": "7b5be58f",
   "metadata": {},
   "outputs": [
    {
     "data": {
      "text/plain": [
       "21.98026648675999"
      ]
     },
     "execution_count": 7,
     "metadata": {},
     "output_type": "execute_result"
    }
   ],
   "source": [
    "(2*a/lamb)**2"
   ]
  },
  {
   "cell_type": "markdown",
   "id": "9a8432b2",
   "metadata": {},
   "source": [
    "\\begin{equation}\n",
    "    N \\leq 21.98\n",
    "\\end{equation}"
   ]
  },
  {
   "cell_type": "markdown",
   "id": "0cf1db85",
   "metadata": {},
   "source": [
    "To determine the accepted values of a FCC, one simply has to know that the different (h,k,l) must all be either odd or even.\n",
    "\n",
    "(222) : N = 12\n",
    "(330) : N=18\n",
    "(331) : N = 19\n",
    "(333) : N = 27 -> Too great\n",
    "(420) : N = 20"
   ]
  },
  {
   "cell_type": "markdown",
   "id": "010f2612",
   "metadata": {},
   "source": [
    "## Exercise 3"
   ]
  },
  {
   "cell_type": "markdown",
   "id": "b233afcb",
   "metadata": {},
   "source": [
    "We now turn our attention to a metal which has an FCC structure. Using an XDR experiment with a radiation $\\lambda = 0.071$ on the set of $(311)$ planes with a diffraction angle $2\\theta = 36.12°$ (first-order), let us deduce (a) the interplanar distance of this set of plane and (b) the atomic radius of the atom."
   ]
  },
  {
   "cell_type": "code",
   "execution_count": 8,
   "id": "4f27d423",
   "metadata": {},
   "outputs": [],
   "source": [
    "angle = np.radians(36.12/2)\n",
    "lamb = 0.071\n",
    "N = 11"
   ]
  },
  {
   "cell_type": "markdown",
   "id": "bc907aa9",
   "metadata": {},
   "source": [
    "The interplanar distance $d$ can be deduced from the experiment using Bragg's law\n",
    "\\begin{align}\n",
    "    2d\\sin\\theta &= \\lambda\\\\\n",
    "    d &= \\frac{\\lambda}{2\\sin\\theta}\n",
    "\\end{align}"
   ]
  },
  {
   "cell_type": "code",
   "execution_count": 9,
   "id": "715fc9ad",
   "metadata": {},
   "outputs": [
    {
     "data": {
      "text/plain": [
       "0.1145114123403106"
      ]
     },
     "execution_count": 9,
     "metadata": {},
     "output_type": "execute_result"
    }
   ],
   "source": [
    "d = lamb/(2*np.sin(angle))\n",
    "d"
   ]
  },
  {
   "cell_type": "markdown",
   "id": "1333701d",
   "metadata": {},
   "source": [
    "Independantly, the definition of $d$ states that\n",
    "\\begin{equation}\n",
    "    d = \\frac{a}{\\sqrt{N}}\n",
    "\\end{equation}\n",
    "which trivially means that\n",
    "\\begin{equation}\n",
    "    a = d\\sqrt{N}\n",
    "\\end{equation}"
   ]
  },
  {
   "cell_type": "code",
   "execution_count": 10,
   "id": "fda36b19",
   "metadata": {},
   "outputs": [
    {
     "data": {
      "text/plain": [
       "0.3797913889464834"
      ]
     },
     "execution_count": 10,
     "metadata": {},
     "output_type": "execute_result"
    }
   ],
   "source": [
    "a = d*np.sqrt(N)\n",
    "a"
   ]
  },
  {
   "cell_type": "markdown",
   "id": "4540c7fe",
   "metadata": {},
   "source": [
    "Using the pythagorian theorem on an FCC lattice, one finds the following relation between the atomic radius R and the lattice constant a:\n",
    "\\begin{equation}\n",
    "    \\sqrt{3}a = 4R\n",
    "\\end{equation}"
   ]
  },
  {
   "cell_type": "code",
   "execution_count": 11,
   "id": "0b29945a",
   "metadata": {},
   "outputs": [
    {
     "data": {
      "text/plain": [
       "0.16445449548311553"
      ]
     },
     "execution_count": 11,
     "metadata": {},
     "output_type": "execute_result"
    }
   ],
   "source": [
    "R = np.sqrt(3)/4 * a\n",
    "R"
   ]
  },
  {
   "cell_type": "markdown",
   "id": "94aa8454",
   "metadata": {},
   "source": [
    "## Exercise 4"
   ]
  },
  {
   "cell_type": "code",
   "execution_count": 13,
   "id": "8230705f",
   "metadata": {},
   "outputs": [
    {
     "data": {
      "text/plain": [
       "array([[31.3,  3. ],\n",
       "       [36.6,  4. ],\n",
       "       [52.6,  8. ],\n",
       "       [62.5, 11. ],\n",
       "       [65.5, 12. ]])"
      ]
     },
     "execution_count": 13,
     "metadata": {},
     "output_type": "execute_result"
    }
   ],
   "source": [
    "data = np.genfromtxt(\"/Users/jmoeil/Desktop/GitHub/BA3/PHYS-F308/Solid state/TPs/TP3/Data/Exo3.txt\")\n",
    "data"
   ]
  },
  {
   "cell_type": "code",
   "execution_count": 14,
   "id": "cf64ea7a",
   "metadata": {},
   "outputs": [
    {
     "data": {
      "text/plain": [
       "array([15.65, 18.3 , 26.3 , 31.25, 32.75])"
      ]
     },
     "execution_count": 14,
     "metadata": {},
     "output_type": "execute_result"
    }
   ],
   "source": [
    "angles_deg = data[0:,0]/2\n",
    "angles_deg"
   ]
  },
  {
   "cell_type": "code",
   "execution_count": 15,
   "id": "24d5b40e",
   "metadata": {},
   "outputs": [
    {
     "data": {
      "text/plain": [
       "array([ 3.,  4.,  8., 11., 12.])"
      ]
     },
     "execution_count": 15,
     "metadata": {},
     "output_type": "execute_result"
    }
   ],
   "source": [
    "N = data[0:,1]\n",
    "N"
   ]
  },
  {
   "cell_type": "code",
   "execution_count": 16,
   "id": "79f3dd41",
   "metadata": {},
   "outputs": [
    {
     "data": {
      "text/plain": [
       "array([0.28580936, 0.2455473 , 0.17401267, 0.14861984, 0.14252059])"
      ]
     },
     "execution_count": 16,
     "metadata": {},
     "output_type": "execute_result"
    }
   ],
   "source": [
    "angles_rad = np.radians(angles_deg)\n",
    "sinuses = np.sin(angles_rad)\n",
    "lamb = 0.1542\n",
    "d = lamb/(2*sinuses)\n",
    "d"
   ]
  },
  {
   "cell_type": "code",
   "execution_count": 17,
   "id": "f1598164",
   "metadata": {},
   "outputs": [
    {
     "data": {
      "text/plain": [
       "array([0.49503633, 0.4910946 , 0.49218215, 0.49291625, 0.4937058 ])"
      ]
     },
     "execution_count": 17,
     "metadata": {},
     "output_type": "execute_result"
    }
   ],
   "source": [
    "a = d*np.sqrt(N)\n",
    "a"
   ]
  },
  {
   "cell_type": "markdown",
   "id": "941b4e48",
   "metadata": {},
   "source": [
    "## Exercise 5\n",
    "\n",
    "To get the $N=\\sqrt{h^2+l^2+k^2}$ of the first five peaks, one simply has simply needs to compare the different possible values, remembering the selection rules for a BCC lattice : that N has to be an even number.\n",
    "\n",
    "Doing this exercise, one would find (110), (200), (211), (220) and (310).\n",
    "\n",
    "To get to the value of $d$, one can use Bragg's law.\n",
    "\\begin{align}\n",
    "    2d\\sin\\theta &= n\\lambda\\\\\n",
    "    d &= \\frac{\\lambda}{2\\sin\\theta}\n",
    "\\end{align}\n",
    "Using the definition of the interplanar distance, one can deduce the value of $a$.\n",
    "\\begin{equation}\n",
    "    a = d\\sqrt{N} = \\frac{\\lambda}{2\\sin\\theta}\\sqrt{N}\n",
    "\\end{equation}\n",
    "\n",
    "Using the pytharogian theorem, one finds the atomic radius.\n",
    "\\begin{equation}\n",
    "    R = \\frac{\\sqrt{3}}{4}d\\sqrt{N}\n",
    "\\end{equation}"
   ]
  },
  {
   "cell_type": "code",
   "execution_count": 18,
   "id": "e72b7ce4",
   "metadata": {},
   "outputs": [
    {
     "data": {
      "text/plain": [
       "(0.22434984728996799, 0.13738566243293726)"
      ]
     },
     "execution_count": 18,
     "metadata": {},
     "output_type": "execute_result"
    }
   ],
   "source": [
    "lamb = 0.1542\n",
    "angle = np.radians(40.2 / 2)\n",
    "d = lamb/(2*np.sin(angle))\n",
    "a = d*np.sqrt(2)\n",
    "R = np.sqrt(3)/4 * d * np.sqrt(2)\n",
    "d,R"
   ]
  },
  {
   "cell_type": "markdown",
   "id": "79ee8e7e",
   "metadata": {},
   "source": [
    "Comparing the result with the table data, we find a difference of less than $1\\%$."
   ]
  },
  {
   "cell_type": "code",
   "execution_count": 19,
   "id": "489fc98a",
   "metadata": {},
   "outputs": [
    {
     "data": {
      "text/plain": [
       "0.0020792739786562597"
      ]
     },
     "execution_count": 19,
     "metadata": {},
     "output_type": "execute_result"
    }
   ],
   "source": [
    "R_tg_table = 0.1371\n",
    "\n",
    "1-R_tg_table/R"
   ]
  },
  {
   "cell_type": "markdown",
   "id": "7c6dcf26",
   "metadata": {},
   "source": [
    "The data seem to accurately show that the studies crystal is tungsten."
   ]
  },
  {
   "cell_type": "markdown",
   "id": "79546cda",
   "metadata": {},
   "source": [
    "## Exercise 6"
   ]
  },
  {
   "cell_type": "code",
   "execution_count": 20,
   "id": "3916e4ef",
   "metadata": {},
   "outputs": [],
   "source": [
    "angles = np.radians(np.genfromtxt(\"/Users/jmoeil/Desktop/GitHub/BA3/PHYS-F308/Solid state/TPs/TP3/Data/Exo6.txt\") / 2)"
   ]
  },
  {
   "cell_type": "code",
   "execution_count": 21,
   "id": "587c8298",
   "metadata": {},
   "outputs": [
    {
     "data": {
      "text/plain": [
       "array([ 3.        ,  3.93753936,  8.03857762, 11.29906851, 12.34156795,\n",
       "       16.71974677, 20.10159219, 21.20914979])"
      ]
     },
     "execution_count": 21,
     "metadata": {},
     "output_type": "execute_result"
    }
   ],
   "source": [
    "lamb = 0.1542\n",
    "d = lamb/(2*np.sin(angles))\n",
    "d_a = d[0]\n",
    "((d_a**2/d**2)*3)"
   ]
  },
  {
   "cell_type": "markdown",
   "id": "651f0e97",
   "metadata": {},
   "source": [
    "Theses values can be approximated to be\n",
    "\\begin{equation}\n",
    "    N = 3,4,8,11,12,16,19,20\n",
    "\\end{equation}\n",
    "To which we can assimilate the following (hkl) values:\n",
    "(111)\n",
    "(200)\n",
    "(220)\n",
    "(311)\n",
    "(222)\n",
    "(400)\n",
    "(331)\n",
    "(420)\n",
    "\n",
    "This is therefore clearly an FCC!"
   ]
  },
  {
   "cell_type": "code",
   "execution_count": 22,
   "id": "b6c603a6",
   "metadata": {},
   "outputs": [
    {
     "data": {
      "text/plain": [
       "array([ 3,  4,  8, 11, 12, 16, 19, 20])"
      ]
     },
     "execution_count": 22,
     "metadata": {},
     "output_type": "execute_result"
    }
   ],
   "source": [
    "N = np.array([3,4,8,11,12,16,19,20])\n",
    "N"
   ]
  },
  {
   "cell_type": "code",
   "execution_count": 23,
   "id": "4aa2eb07",
   "metadata": {},
   "outputs": [
    {
     "data": {
      "text/plain": [
       "array([1.24651293, 1.25636066, 1.24351829, 1.22990569, 1.22914252,\n",
       "       1.21938804, 1.21187649, 1.2104592 ])"
      ]
     },
     "execution_count": 23,
     "metadata": {},
     "output_type": "execute_result"
    }
   ],
   "source": [
    "a = d*np.sqrt(N)\n",
    "a"
   ]
  },
  {
   "cell_type": "markdown",
   "id": "a7349366",
   "metadata": {},
   "source": [
    "## Exercise 8"
   ]
  },
  {
   "cell_type": "code",
   "execution_count": 24,
   "id": "fb309f07",
   "metadata": {},
   "outputs": [],
   "source": [
    "data = np.genfromtxt(\"/Users/jmoeil/Desktop/GitHub/BA3/PHYS-F308/Solid state/TPs/TP3/Data/Exo8.txt\")\n",
    "angles = np.radians(data[1:]/2)\n",
    "lamb = data[0]"
   ]
  },
  {
   "cell_type": "code",
   "execution_count": 25,
   "id": "35fd6d9d",
   "metadata": {},
   "outputs": [
    {
     "data": {
      "text/plain": [
       "(array([ 3.        ,  3.99332704,  7.9998573 , 10.99943573, 11.98451627]),\n",
       " array([ 3.,  4.,  8., 11., 12.]))"
      ]
     },
     "execution_count": 25,
     "metadata": {},
     "output_type": "execute_result"
    }
   ],
   "source": [
    "d = lamb/(2*np.sin(angles))\n",
    "(d[0]**2/d**2 * 3),(d[0]**2/d**2 * 3).round()"
   ]
  },
  {
   "cell_type": "markdown",
   "id": "067d1bfb",
   "metadata": {},
   "source": [
    "Admitting the values \n",
    "\\begin{equation}\n",
    "    N = 3,4,8,11,12\n",
    "\\end{equation}\n",
    "one concludes with the fact that the powdered sample is that of a face-centered cubic lattice. In order, the Miller indices would be given by \n",
    "\\begin{equation}\n",
    "    (111),(200),(220),(311),(222)\n",
    "\\end{equation}\n",
    "\n",
    "Using this information, one can deduce the lattice constant and the value of the nearest neighbor distance. Indeed:\n",
    "\\begin{align}\n",
    "    d = \\frac{\\lambda}{2\\sin\\theta} &= \\frac{a}{\\sqrt{N}}\\\\\n",
    "    a &= \\frac{\\sqrt{N}\\lambda}{2\\sin\\theta} = d\\sqrt{N}\n",
    "\\end{align}\n"
   ]
  },
  {
   "cell_type": "code",
   "execution_count": 26,
   "id": "89e823f2",
   "metadata": {},
   "outputs": [
    {
     "data": {
      "text/plain": [
       "array([0.22449437, 0.1945802 , 0.13747539, 0.11724137, 0.11231967])"
      ]
     },
     "execution_count": 26,
     "metadata": {},
     "output_type": "execute_result"
    }
   ],
   "source": [
    "d = lamb/(2*np.sin(angles))\n",
    "d"
   ]
  },
  {
   "cell_type": "code",
   "execution_count": 27,
   "id": "bf3ee827",
   "metadata": {},
   "outputs": [
    {
     "data": {
      "text/plain": [
       "0.38895351602369427"
      ]
     },
     "execution_count": 27,
     "metadata": {},
     "output_type": "execute_result"
    }
   ],
   "source": [
    "N = (d[0]**2/d**2 * 3).round()\n",
    "a = d*np.sqrt(N)\n",
    "a.mean()"
   ]
  },
  {
   "cell_type": "markdown",
   "id": "9291ebbf",
   "metadata": {},
   "source": [
    "In a FCC lattice, the nearest neighbor is given by $d_{NB} = \\frac{\\sqrt{2}a}{4}$."
   ]
  },
  {
   "cell_type": "code",
   "execution_count": 28,
   "id": "c79c2bb2",
   "metadata": {},
   "outputs": [
    {
     "data": {
      "text/plain": [
       "0.2750316687467047"
      ]
     },
     "execution_count": 28,
     "metadata": {},
     "output_type": "execute_result"
    }
   ],
   "source": [
    "d_NB = np.sqrt(2)/2* a.mean()\n",
    "d_NB"
   ]
  },
  {
   "cell_type": "markdown",
   "id": "3ecd9223",
   "metadata": {},
   "source": [
    "The density $\\rho$ is defined as\n",
    "\\begin{equation}\n",
    "    \\rho = \\frac{n\\times A}{V_C\\times N_A}\n",
    "\\end{equation}\n",
    "where $n$ is the number of atoms in a lattice, $A$ is the atomic mass, $V_C = a^3$ is the volume of the lattice and $N_A = 6.02214076\\times 10^{23}$ is Avogadro's number.\n",
    "\n",
    "\n",
    "\n",
    "For a FCC, $n = \\frac{1}{8}\\times 8 + \\frac{1}{3}\\times 6 = 1 + 3 = 4$"
   ]
  },
  {
   "cell_type": "code",
   "execution_count": 29,
   "id": "56905559",
   "metadata": {},
   "outputs": [],
   "source": [
    "N_A = 6.02214076e+23\n",
    "n = 4\n",
    "A = 106.4e-3\n",
    "a = a * 10**(-9)\n",
    "V_C = a**3"
   ]
  },
  {
   "cell_type": "code",
   "execution_count": 30,
   "id": "af15c7cf",
   "metadata": {},
   "outputs": [
    {
     "data": {
      "text/plain": [
       "12010.399150509269"
      ]
     },
     "execution_count": 30,
     "metadata": {},
     "output_type": "execute_result"
    }
   ],
   "source": [
    "rho = (n*A)/(V_C*N_A).mean()\n",
    "rho"
   ]
  },
  {
   "cell_type": "code",
   "execution_count": 31,
   "id": "b1600e36",
   "metadata": {},
   "outputs": [
    {
     "data": {
      "text/plain": [
       "0.10480620053838763"
      ]
     },
     "execution_count": 31,
     "metadata": {},
     "output_type": "execute_result"
    }
   ],
   "source": [
    "rho_litterature = 12023\n",
    "\n",
    "(1-rho/rho_litterature)*100"
   ]
  },
  {
   "cell_type": "markdown",
   "id": "5a7475e1",
   "metadata": {},
   "source": [
    "The difference between the experimentally-deduced value and the litterature is of the order of `0.1%`."
   ]
  },
  {
   "cell_type": "markdown",
   "id": "2f7f5300",
   "metadata": {},
   "source": [
    "## Exercise 9"
   ]
  },
  {
   "cell_type": "markdown",
   "id": "0b78acc8",
   "metadata": {},
   "source": [
    "Using experimental data provided through an XDR experiment, let us try to deduce the value of Avogado's number defined hereabove.\n",
    "\n",
    "To do this, we use the usual definition of density introduced previously. From the definition, one deduces that\n",
    "\\begin{equation}\n",
    "    N_A = \\rho \\frac{V_C}{nA}\n",
    "\\end{equation}"
   ]
  },
  {
   "cell_type": "code",
   "execution_count": 32,
   "id": "d8b488b9",
   "metadata": {},
   "outputs": [],
   "source": [
    "rho = 2.7\n",
    "A = 27*1.6605e-24# 27 uma - 1 uma = 1,6605e-24 g\n",
    "lamb = 0.154e+6 # 0.154 nm converted to cm"
   ]
  },
  {
   "cell_type": "markdown",
   "id": "e64c5db0",
   "metadata": {},
   "source": [
    "One needs to know the structure of the lattice to know the value of `n`."
   ]
  },
  {
   "cell_type": "code",
   "execution_count": 33,
   "id": "f16aa0f2",
   "metadata": {},
   "outputs": [
    {
     "data": {
      "text/plain": [
       "array([0.16999507, 0.19757127, 0.28797933, 0.34627332, 0.36503561,\n",
       "       0.43938664, 0.49785517, 0.51853732])"
      ]
     },
     "execution_count": 33,
     "metadata": {},
     "output_type": "execute_result"
    }
   ],
   "source": [
    "data = np.genfromtxt('/Users/jmoeil/Desktop/GitHub/BA3/PHYS-F308/Solid state/TPs/TP3/Data/Exo9.txt')\n",
    "angles = np.radians(data/2)\n",
    "angles"
   ]
  },
  {
   "cell_type": "code",
   "execution_count": 34,
   "id": "f66b1072",
   "metadata": {},
   "outputs": [
    {
     "data": {
      "text/plain": [
       "array([ 3.,  4.,  8., 12., 13., 19., 24., 26.])"
      ]
     },
     "execution_count": 34,
     "metadata": {},
     "output_type": "execute_result"
    }
   ],
   "source": [
    "d = lamb/(2*np.sin(angles))\n",
    "N = ((d[0]**2/d**2) * 3).round()\n",
    "N"
   ]
  },
  {
   "cell_type": "markdown",
   "id": "eb1b2b13",
   "metadata": {},
   "source": [
    "This appears to be a FCC lattice. Hence, `n=4`."
   ]
  },
  {
   "cell_type": "code",
   "execution_count": 35,
   "id": "3486f68a",
   "metadata": {},
   "outputs": [
    {
     "data": {
      "text/plain": [
       "7.265934102083857e+39"
      ]
     },
     "execution_count": 35,
     "metadata": {},
     "output_type": "execute_result"
    }
   ],
   "source": [
    "a = d*np.sqrt(N)\n",
    "n=4\n",
    "N_A = rho*a**3/(n*A)\n",
    "N_A.mean()"
   ]
  },
  {
   "cell_type": "markdown",
   "id": "46349df4",
   "metadata": {},
   "source": [
    "## Exercise 11"
   ]
  },
  {
   "cell_type": "code",
   "execution_count": 37,
   "id": "3aa27969",
   "metadata": {},
   "outputs": [
    {
     "data": {
      "text/plain": [
       "array([14.1 , 19.98, 24.57, 28.41, 31.85, 34.98, 37.89, 40.61])"
      ]
     },
     "execution_count": 37,
     "metadata": {},
     "output_type": "execute_result"
    }
   ],
   "source": [
    "data = np.genfromtxt(\"/Users/jmoeil/Desktop/GitHub/BA3/PHYS-F308/Solid state/TPs/TP3/Data/Exo11.txt\")\n",
    "data"
   ]
  },
  {
   "cell_type": "code",
   "execution_count": 38,
   "id": "9dc2eeb3",
   "metadata": {},
   "outputs": [],
   "source": [
    "angles = np.radians(data/2)\n",
    "lamb = 0.574"
   ]
  },
  {
   "cell_type": "markdown",
   "id": "a228354e",
   "metadata": {},
   "source": [
    "What is the underlying structure ?"
   ]
  },
  {
   "cell_type": "code",
   "execution_count": 39,
   "id": "d0672aed",
   "metadata": {},
   "outputs": [
    {
     "data": {
      "text/plain": [
       "(array([ 2.,  4.,  6.,  8., 10., 12., 14., 16.]),\n",
       " array([ 3.,  6.,  9., 12., 15., 18., 21., 24.]))"
      ]
     },
     "execution_count": 39,
     "metadata": {},
     "output_type": "execute_result"
    }
   ],
   "source": [
    "d = lamb/(2*np.sin(angles))\n",
    "s2 = d[0]**2/d**2 * 2\n",
    "s3 = d[0]**2/d**2 * 3\n",
    "s2.round(),s3.round()"
   ]
  },
  {
   "cell_type": "markdown",
   "id": "08d07a46",
   "metadata": {},
   "source": [
    "The `s2.round()` array would correspond to a body-centered cubic. Meanwhile, `s3.round()`cancels out the possibility to have it be a face-centered cubic.\n",
    "\n",
    "As the Right Honorable Speaker of the House of Commons would put it : The body-centered cubics have it!"
   ]
  },
  {
   "cell_type": "code",
   "execution_count": null,
   "id": "bdd39cb6",
   "metadata": {},
   "outputs": [],
   "source": []
  },
  {
   "cell_type": "code",
   "execution_count": 94,
   "id": "1a6b9f46",
   "metadata": {},
   "outputs": [
    {
     "data": {
      "text/plain": [
       "array([ 3.,  6.,  9., 12., 15., 18., 21., 24.])"
      ]
     },
     "execution_count": 94,
     "metadata": {},
     "output_type": "execute_result"
    }
   ],
   "source": [
    "(s * 3/2).round()"
   ]
  }
 ],
 "metadata": {
  "kernelspec": {
   "display_name": "Python 3 (ipykernel)",
   "language": "python",
   "name": "python3"
  },
  "language_info": {
   "codemirror_mode": {
    "name": "ipython",
    "version": 3
   },
   "file_extension": ".py",
   "mimetype": "text/x-python",
   "name": "python",
   "nbconvert_exporter": "python",
   "pygments_lexer": "ipython3",
   "version": "3.9.13"
  }
 },
 "nbformat": 4,
 "nbformat_minor": 5
}
